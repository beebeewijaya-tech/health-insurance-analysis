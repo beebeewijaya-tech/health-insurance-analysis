{
  "cells": [
    {
      "cell_type": "code",
      "execution_count": 11,
      "metadata": {
        "colab": {
          "base_uri": "https://localhost:8080/"
        },
        "id": "X40JBWgJjbMC",
        "outputId": "3d4c99ef-ae92-4b36-9f49-42e7048880f5"
      },
      "outputs": [
        {
          "output_type": "stream",
          "name": "stdout",
          "text": [
            "Looking in indexes: https://pypi.org/simple, https://us-python.pkg.dev/colab-wheels/public/simple/\n",
            "Requirement already satisfied: tabulate in /usr/local/lib/python3.7/dist-packages (0.8.10)\n",
            "Looking in indexes: https://pypi.org/simple, https://us-python.pkg.dev/colab-wheels/public/simple/\n",
            "Requirement already satisfied: pandas in /usr/local/lib/python3.7/dist-packages (1.3.5)\n",
            "Requirement already satisfied: python-dateutil>=2.7.3 in /usr/local/lib/python3.7/dist-packages (from pandas) (2.8.2)\n",
            "Requirement already satisfied: numpy>=1.17.3 in /usr/local/lib/python3.7/dist-packages (from pandas) (1.21.6)\n",
            "Requirement already satisfied: pytz>=2017.3 in /usr/local/lib/python3.7/dist-packages (from pandas) (2022.2.1)\n",
            "Requirement already satisfied: six>=1.5 in /usr/local/lib/python3.7/dist-packages (from python-dateutil>=2.7.3->pandas) (1.15.0)\n",
            "Looking in indexes: https://pypi.org/simple, https://us-python.pkg.dev/colab-wheels/public/simple/\n",
            "Requirement already satisfied: seaborn in /usr/local/lib/python3.7/dist-packages (0.11.2)\n",
            "Requirement already satisfied: scipy>=1.0 in /usr/local/lib/python3.7/dist-packages (from seaborn) (1.7.3)\n",
            "Requirement already satisfied: numpy>=1.15 in /usr/local/lib/python3.7/dist-packages (from seaborn) (1.21.6)\n",
            "Requirement already satisfied: matplotlib>=2.2 in /usr/local/lib/python3.7/dist-packages (from seaborn) (3.2.2)\n",
            "Requirement already satisfied: pandas>=0.23 in /usr/local/lib/python3.7/dist-packages (from seaborn) (1.3.5)\n",
            "Requirement already satisfied: pyparsing!=2.0.4,!=2.1.2,!=2.1.6,>=2.0.1 in /usr/local/lib/python3.7/dist-packages (from matplotlib>=2.2->seaborn) (3.0.9)\n",
            "Requirement already satisfied: kiwisolver>=1.0.1 in /usr/local/lib/python3.7/dist-packages (from matplotlib>=2.2->seaborn) (1.4.4)\n",
            "Requirement already satisfied: cycler>=0.10 in /usr/local/lib/python3.7/dist-packages (from matplotlib>=2.2->seaborn) (0.11.0)\n",
            "Requirement already satisfied: python-dateutil>=2.1 in /usr/local/lib/python3.7/dist-packages (from matplotlib>=2.2->seaborn) (2.8.2)\n",
            "Requirement already satisfied: typing-extensions in /usr/local/lib/python3.7/dist-packages (from kiwisolver>=1.0.1->matplotlib>=2.2->seaborn) (4.1.1)\n",
            "Requirement already satisfied: pytz>=2017.3 in /usr/local/lib/python3.7/dist-packages (from pandas>=0.23->seaborn) (2022.2.1)\n",
            "Requirement already satisfied: six>=1.5 in /usr/local/lib/python3.7/dist-packages (from python-dateutil>=2.1->matplotlib>=2.2->seaborn) (1.15.0)\n",
            "Looking in indexes: https://pypi.org/simple, https://us-python.pkg.dev/colab-wheels/public/simple/\n",
            "Requirement already satisfied: matplotlib in /usr/local/lib/python3.7/dist-packages (3.2.2)\n",
            "Requirement already satisfied: cycler>=0.10 in /usr/local/lib/python3.7/dist-packages (from matplotlib) (0.11.0)\n",
            "Requirement already satisfied: python-dateutil>=2.1 in /usr/local/lib/python3.7/dist-packages (from matplotlib) (2.8.2)\n",
            "Requirement already satisfied: pyparsing!=2.0.4,!=2.1.2,!=2.1.6,>=2.0.1 in /usr/local/lib/python3.7/dist-packages (from matplotlib) (3.0.9)\n",
            "Requirement already satisfied: numpy>=1.11 in /usr/local/lib/python3.7/dist-packages (from matplotlib) (1.21.6)\n",
            "Requirement already satisfied: kiwisolver>=1.0.1 in /usr/local/lib/python3.7/dist-packages (from matplotlib) (1.4.4)\n",
            "Requirement already satisfied: typing-extensions in /usr/local/lib/python3.7/dist-packages (from kiwisolver>=1.0.1->matplotlib) (4.1.1)\n",
            "Requirement already satisfied: six>=1.5 in /usr/local/lib/python3.7/dist-packages (from python-dateutil>=2.1->matplotlib) (1.15.0)\n",
            "Looking in indexes: https://pypi.org/simple, https://us-python.pkg.dev/colab-wheels/public/simple/\n",
            "Requirement already satisfied: numpy in /usr/local/lib/python3.7/dist-packages (1.21.6)\n",
            "Looking in indexes: https://pypi.org/simple, https://us-python.pkg.dev/colab-wheels/public/simple/\n",
            "Requirement already satisfied: scipy in /usr/local/lib/python3.7/dist-packages (1.7.3)\n",
            "Requirement already satisfied: numpy<1.23.0,>=1.16.5 in /usr/local/lib/python3.7/dist-packages (from scipy) (1.21.6)\n"
          ]
        }
      ],
      "source": [
        "!pip install tabulate\n",
        "!pip install pandas\n",
        "!pip install seaborn\n",
        "!pip install matplotlib\n",
        "!pip install numpy\n",
        "!pip install scipy"
      ]
    },
    {
      "cell_type": "code",
      "execution_count": 2,
      "metadata": {
        "id": "p5pjdI-aju-X"
      },
      "outputs": [],
      "source": [
        "import pandas as pd\n",
        "import numpy as np\n",
        "from tabulate import tabulate\n",
        "import seaborn as sns\n",
        "import matplotlib.pyplot as plt"
      ]
    },
    {
      "cell_type": "code",
      "execution_count": 3,
      "metadata": {
        "colab": {
          "base_uri": "https://localhost:8080/",
          "height": 424
        },
        "id": "X8mijGWQj1VC",
        "outputId": "7b8bd61c-1f5a-4251-e0fd-7814fcd6b90b"
      },
      "outputs": [
        {
          "output_type": "execute_result",
          "data": {
            "text/plain": [
              "      age     sex     bmi  children smoker     region      charges\n",
              "0      19  female  27.900         0    yes  southwest  16884.92400\n",
              "1      18    male  33.770         1     no  southeast   1725.55230\n",
              "2      28    male  33.000         3     no  southeast   4449.46200\n",
              "3      33    male  22.705         0     no  northwest  21984.47061\n",
              "4      32    male  28.880         0     no  northwest   3866.85520\n",
              "...   ...     ...     ...       ...    ...        ...          ...\n",
              "1333   50    male  30.970         3     no  northwest  10600.54830\n",
              "1334   18  female  31.920         0     no  northeast   2205.98080\n",
              "1335   18  female  36.850         0     no  southeast   1629.83350\n",
              "1336   21  female  25.800         0     no  southwest   2007.94500\n",
              "1337   61  female  29.070         0    yes  northwest  29141.36030\n",
              "\n",
              "[1338 rows x 7 columns]"
            ],
            "text/html": [
              "\n",
              "  <div id=\"df-0e45f6b6-b10e-496d-96dd-c2c7867b0eda\">\n",
              "    <div class=\"colab-df-container\">\n",
              "      <div>\n",
              "<style scoped>\n",
              "    .dataframe tbody tr th:only-of-type {\n",
              "        vertical-align: middle;\n",
              "    }\n",
              "\n",
              "    .dataframe tbody tr th {\n",
              "        vertical-align: top;\n",
              "    }\n",
              "\n",
              "    .dataframe thead th {\n",
              "        text-align: right;\n",
              "    }\n",
              "</style>\n",
              "<table border=\"1\" class=\"dataframe\">\n",
              "  <thead>\n",
              "    <tr style=\"text-align: right;\">\n",
              "      <th></th>\n",
              "      <th>age</th>\n",
              "      <th>sex</th>\n",
              "      <th>bmi</th>\n",
              "      <th>children</th>\n",
              "      <th>smoker</th>\n",
              "      <th>region</th>\n",
              "      <th>charges</th>\n",
              "    </tr>\n",
              "  </thead>\n",
              "  <tbody>\n",
              "    <tr>\n",
              "      <th>0</th>\n",
              "      <td>19</td>\n",
              "      <td>female</td>\n",
              "      <td>27.900</td>\n",
              "      <td>0</td>\n",
              "      <td>yes</td>\n",
              "      <td>southwest</td>\n",
              "      <td>16884.92400</td>\n",
              "    </tr>\n",
              "    <tr>\n",
              "      <th>1</th>\n",
              "      <td>18</td>\n",
              "      <td>male</td>\n",
              "      <td>33.770</td>\n",
              "      <td>1</td>\n",
              "      <td>no</td>\n",
              "      <td>southeast</td>\n",
              "      <td>1725.55230</td>\n",
              "    </tr>\n",
              "    <tr>\n",
              "      <th>2</th>\n",
              "      <td>28</td>\n",
              "      <td>male</td>\n",
              "      <td>33.000</td>\n",
              "      <td>3</td>\n",
              "      <td>no</td>\n",
              "      <td>southeast</td>\n",
              "      <td>4449.46200</td>\n",
              "    </tr>\n",
              "    <tr>\n",
              "      <th>3</th>\n",
              "      <td>33</td>\n",
              "      <td>male</td>\n",
              "      <td>22.705</td>\n",
              "      <td>0</td>\n",
              "      <td>no</td>\n",
              "      <td>northwest</td>\n",
              "      <td>21984.47061</td>\n",
              "    </tr>\n",
              "    <tr>\n",
              "      <th>4</th>\n",
              "      <td>32</td>\n",
              "      <td>male</td>\n",
              "      <td>28.880</td>\n",
              "      <td>0</td>\n",
              "      <td>no</td>\n",
              "      <td>northwest</td>\n",
              "      <td>3866.85520</td>\n",
              "    </tr>\n",
              "    <tr>\n",
              "      <th>...</th>\n",
              "      <td>...</td>\n",
              "      <td>...</td>\n",
              "      <td>...</td>\n",
              "      <td>...</td>\n",
              "      <td>...</td>\n",
              "      <td>...</td>\n",
              "      <td>...</td>\n",
              "    </tr>\n",
              "    <tr>\n",
              "      <th>1333</th>\n",
              "      <td>50</td>\n",
              "      <td>male</td>\n",
              "      <td>30.970</td>\n",
              "      <td>3</td>\n",
              "      <td>no</td>\n",
              "      <td>northwest</td>\n",
              "      <td>10600.54830</td>\n",
              "    </tr>\n",
              "    <tr>\n",
              "      <th>1334</th>\n",
              "      <td>18</td>\n",
              "      <td>female</td>\n",
              "      <td>31.920</td>\n",
              "      <td>0</td>\n",
              "      <td>no</td>\n",
              "      <td>northeast</td>\n",
              "      <td>2205.98080</td>\n",
              "    </tr>\n",
              "    <tr>\n",
              "      <th>1335</th>\n",
              "      <td>18</td>\n",
              "      <td>female</td>\n",
              "      <td>36.850</td>\n",
              "      <td>0</td>\n",
              "      <td>no</td>\n",
              "      <td>southeast</td>\n",
              "      <td>1629.83350</td>\n",
              "    </tr>\n",
              "    <tr>\n",
              "      <th>1336</th>\n",
              "      <td>21</td>\n",
              "      <td>female</td>\n",
              "      <td>25.800</td>\n",
              "      <td>0</td>\n",
              "      <td>no</td>\n",
              "      <td>southwest</td>\n",
              "      <td>2007.94500</td>\n",
              "    </tr>\n",
              "    <tr>\n",
              "      <th>1337</th>\n",
              "      <td>61</td>\n",
              "      <td>female</td>\n",
              "      <td>29.070</td>\n",
              "      <td>0</td>\n",
              "      <td>yes</td>\n",
              "      <td>northwest</td>\n",
              "      <td>29141.36030</td>\n",
              "    </tr>\n",
              "  </tbody>\n",
              "</table>\n",
              "<p>1338 rows × 7 columns</p>\n",
              "</div>\n",
              "      <button class=\"colab-df-convert\" onclick=\"convertToInteractive('df-0e45f6b6-b10e-496d-96dd-c2c7867b0eda')\"\n",
              "              title=\"Convert this dataframe to an interactive table.\"\n",
              "              style=\"display:none;\">\n",
              "        \n",
              "  <svg xmlns=\"http://www.w3.org/2000/svg\" height=\"24px\"viewBox=\"0 0 24 24\"\n",
              "       width=\"24px\">\n",
              "    <path d=\"M0 0h24v24H0V0z\" fill=\"none\"/>\n",
              "    <path d=\"M18.56 5.44l.94 2.06.94-2.06 2.06-.94-2.06-.94-.94-2.06-.94 2.06-2.06.94zm-11 1L8.5 8.5l.94-2.06 2.06-.94-2.06-.94L8.5 2.5l-.94 2.06-2.06.94zm10 10l.94 2.06.94-2.06 2.06-.94-2.06-.94-.94-2.06-.94 2.06-2.06.94z\"/><path d=\"M17.41 7.96l-1.37-1.37c-.4-.4-.92-.59-1.43-.59-.52 0-1.04.2-1.43.59L10.3 9.45l-7.72 7.72c-.78.78-.78 2.05 0 2.83L4 21.41c.39.39.9.59 1.41.59.51 0 1.02-.2 1.41-.59l7.78-7.78 2.81-2.81c.8-.78.8-2.07 0-2.86zM5.41 20L4 18.59l7.72-7.72 1.47 1.35L5.41 20z\"/>\n",
              "  </svg>\n",
              "      </button>\n",
              "      \n",
              "  <style>\n",
              "    .colab-df-container {\n",
              "      display:flex;\n",
              "      flex-wrap:wrap;\n",
              "      gap: 12px;\n",
              "    }\n",
              "\n",
              "    .colab-df-convert {\n",
              "      background-color: #E8F0FE;\n",
              "      border: none;\n",
              "      border-radius: 50%;\n",
              "      cursor: pointer;\n",
              "      display: none;\n",
              "      fill: #1967D2;\n",
              "      height: 32px;\n",
              "      padding: 0 0 0 0;\n",
              "      width: 32px;\n",
              "    }\n",
              "\n",
              "    .colab-df-convert:hover {\n",
              "      background-color: #E2EBFA;\n",
              "      box-shadow: 0px 1px 2px rgba(60, 64, 67, 0.3), 0px 1px 3px 1px rgba(60, 64, 67, 0.15);\n",
              "      fill: #174EA6;\n",
              "    }\n",
              "\n",
              "    [theme=dark] .colab-df-convert {\n",
              "      background-color: #3B4455;\n",
              "      fill: #D2E3FC;\n",
              "    }\n",
              "\n",
              "    [theme=dark] .colab-df-convert:hover {\n",
              "      background-color: #434B5C;\n",
              "      box-shadow: 0px 1px 3px 1px rgba(0, 0, 0, 0.15);\n",
              "      filter: drop-shadow(0px 1px 2px rgba(0, 0, 0, 0.3));\n",
              "      fill: #FFFFFF;\n",
              "    }\n",
              "  </style>\n",
              "\n",
              "      <script>\n",
              "        const buttonEl =\n",
              "          document.querySelector('#df-0e45f6b6-b10e-496d-96dd-c2c7867b0eda button.colab-df-convert');\n",
              "        buttonEl.style.display =\n",
              "          google.colab.kernel.accessAllowed ? 'block' : 'none';\n",
              "\n",
              "        async function convertToInteractive(key) {\n",
              "          const element = document.querySelector('#df-0e45f6b6-b10e-496d-96dd-c2c7867b0eda');\n",
              "          const dataTable =\n",
              "            await google.colab.kernel.invokeFunction('convertToInteractive',\n",
              "                                                     [key], {});\n",
              "          if (!dataTable) return;\n",
              "\n",
              "          const docLinkHtml = 'Like what you see? Visit the ' +\n",
              "            '<a target=\"_blank\" href=https://colab.research.google.com/notebooks/data_table.ipynb>data table notebook</a>'\n",
              "            + ' to learn more about interactive tables.';\n",
              "          element.innerHTML = '';\n",
              "          dataTable['output_type'] = 'display_data';\n",
              "          await google.colab.output.renderOutput(dataTable, element);\n",
              "          const docLink = document.createElement('div');\n",
              "          docLink.innerHTML = docLinkHtml;\n",
              "          element.appendChild(docLink);\n",
              "        }\n",
              "      </script>\n",
              "    </div>\n",
              "  </div>\n",
              "  "
            ]
          },
          "metadata": {},
          "execution_count": 3
        }
      ],
      "source": [
        "insurance_data = pd.read_csv(\"insurance.csv\")\n",
        "total_insurance = len(insurance_data)\n",
        "insurance_data"
      ]
    },
    {
      "cell_type": "markdown",
      "metadata": {
        "id": "Kf6M_Qzzj6R-"
      },
      "source": [
        "# 1. Analisa Descriptive Statistic\n",
        "\n",
        "## This is the lesson_1 answer, consist\n",
        "1. Berapa rata-rata nilai BMI yang merokok?\n",
        "2. Berapa rata-rata umur pada data tersebut?\n",
        "3. Apakah rata-rata umur perempuan dan laki-laki yang merokok sama?\n",
        "4. BMI mana yang lebih tinggi, laki-laki atau perempuan?\n",
        "5. BMI mana yang lebih tinggi, perokok atau non perokok?\n"
      ]
    },
    {
      "cell_type": "code",
      "execution_count": null,
      "metadata": {
        "colab": {
          "base_uri": "https://localhost:8080/"
        },
        "id": "N23GYFMcj4yG",
        "outputId": "39ae0b52-7a32-4dcf-c8cd-8baa313456f0"
      },
      "outputs": [
        {
          "name": "stdout",
          "output_type": "stream",
          "text": [
            "30.71\n"
          ]
        }
      ],
      "source": [
        "# 1. Berapa rata-rata nilai BMI yang merokok?\n",
        "\n",
        "smoker_data = insurance_data[insurance_data[\"smoker\"] == \"yes\"] # Filter only get insurance with smoker\n",
        "smoker_data_bmi = smoker_data[\"bmi\"].agg(np.mean)  # Agg the smoker bmi with mean from numpy\n",
        "print(round(smoker_data_bmi, 2))"
      ]
    },
    {
      "cell_type": "code",
      "execution_count": null,
      "metadata": {
        "colab": {
          "base_uri": "https://localhost:8080/"
        },
        "id": "maIbi_dokBIE",
        "outputId": "fb97f32e-c6ec-463e-ed74-db9328c4b503"
      },
      "outputs": [
        {
          "name": "stdout",
          "output_type": "stream",
          "text": [
            "39.21\n"
          ]
        }
      ],
      "source": [
        "# 2 Berapa rata-rata umur pada data tersebut?\n",
        "\n",
        "age_data = insurance_data[\"age\"].agg(np.mean)  # Agg the age using np.mean\n",
        "print(round(age_data, 2))"
      ]
    },
    {
      "cell_type": "code",
      "execution_count": null,
      "metadata": {
        "colab": {
          "base_uri": "https://localhost:8080/"
        },
        "id": "3lMCd-98kWsf",
        "outputId": "3f7967ed-5847-41d5-8336-e0a46e3558d0"
      },
      "outputs": [
        {
          "name": "stdout",
          "output_type": "stream",
          "text": [
            "sex\n",
            "female    38.61\n",
            "male      38.45\n",
            "Name: age, dtype: float64\n"
          ]
        }
      ],
      "source": [
        "# 3. Apakah rata-rata umur perempuan dan laki-laki yang merokok sama?\n",
        "smoker_age_data = smoker_data.groupby([\"sex\"])[\"age\"].agg(np.mean)\n",
        "print(round(smoker_age_data, 2))"
      ]
    },
    {
      "cell_type": "code",
      "execution_count": null,
      "metadata": {
        "colab": {
          "base_uri": "https://localhost:8080/"
        },
        "id": "TF5MORUhkb8M",
        "outputId": "a55664d1-162c-4c65-ce70-2b79a0f3ae7a"
      },
      "outputs": [
        {
          "name": "stdout",
          "output_type": "stream",
          "text": [
            "sex\n",
            "female    30.38\n",
            "male      30.94\n",
            "Name: bmi, dtype: float64\n"
          ]
        }
      ],
      "source": [
        "# 4. BMI mana yang lebih tinggi, laki-laki atau perempuan?\n",
        "bmi_gender_data = insurance_data.groupby([\"sex\"])[\"bmi\"].agg(np.mean)\n",
        "print(round(bmi_gender_data, 2))"
      ]
    },
    {
      "cell_type": "code",
      "execution_count": null,
      "metadata": {
        "colab": {
          "base_uri": "https://localhost:8080/"
        },
        "id": "gUFuL9zDkdcV",
        "outputId": "c2ed0bf5-0b1a-4875-f236-b42ed8a87733"
      },
      "outputs": [
        {
          "name": "stdout",
          "output_type": "stream",
          "text": [
            "smoker\n",
            "no     30.65\n",
            "yes    30.71\n",
            "Name: bmi, dtype: float64\n"
          ]
        }
      ],
      "source": [
        "# 5. BMI mana yang lebih tinggi, perokok atau non perokok?\n",
        "bmi_smoker_data = insurance_data.groupby([\"smoker\"])[\"bmi\"].agg(np.mean)\n",
        "print(round(bmi_smoker_data, 2))"
      ]
    },
    {
      "cell_type": "markdown",
      "metadata": {
        "id": "afw4bdxfnkdn"
      },
      "source": [
        "# 2. Analisa Variabel Kategorik ( PMF )\n",
        "\n",
        "## This is the lesson_2 answer, consist\n",
        "\n",
        "1. Gender mana yang memiliki tagihan paling tinggi?\n",
        "2. Distribusi peluang tagihan di tiap-tiap region?\n",
        "3. Mana yang lebih tinggi proporsi perokok atau non perokok?\n",
        "4. Berapa peluang seseorang tersebut adalah perempuan jika diketahui dia adalah perokok?\n",
        "5. Berapa peluang seseorang tersebut adalah laki laki jika diketahui dia adalah perkokok?"
      ]
    },
    {
      "cell_type": "code",
      "execution_count": null,
      "metadata": {
        "colab": {
          "base_uri": "https://localhost:8080/",
          "height": 364
        },
        "id": "t2RnffDSnyDv",
        "outputId": "7a393c54-61cf-4d93-9638-aada6ded6002"
      },
      "outputs": [
        {
          "name": "stdout",
          "output_type": "stream",
          "text": [
            "sex\n",
            "female    0.47\n",
            "male      0.53\n",
            "Name: charges, dtype: float64\n"
          ]
        },
        {
          "data": {
            "image/png": "[encoded data removed]",
            "text/plain": [
              "<Figure size 432x288 with 1 Axes>"
            ]
          },
          "metadata": {},
          "output_type": "display_data"
        }
      ],
      "source": [
        "# 1. Gender mana yang memiliki tagihan paling tinggi?\n",
        "total_charges = insurance_data[\"charges\"].sum()\n",
        "gender_charges_pmf = insurance_data.groupby([\"sex\"])[\"charges\"].agg(np.sum)\n",
        "pmf = round(gender_charges_pmf / total_charges, 2)\n",
        "print(pmf)\n",
        "\n",
        "plt.bar(pmf.index, pmf.values, color ='maroon')\n",
        "plt.xlabel(\"Gender\")\n",
        "plt.ylabel(\"PMF f(x)\")\n",
        "plt.yticks(np.arange(0, 1.2, step=0.2))\n",
        "plt.title(\"Gender mana yang memiliki tagihan paling tinggi\")\n",
        "plt.show()"
      ]
    },
    {
      "cell_type": "code",
      "execution_count": null,
      "metadata": {
        "colab": {
          "base_uri": "https://localhost:8080/",
          "height": 399
        },
        "id": "vnZ4mCpUn9UQ",
        "outputId": "acb968b9-d185-4770-fd82-c883a57f4a8e"
      },
      "outputs": [
        {
          "name": "stdout",
          "output_type": "stream",
          "text": [
            "region\n",
            "northeast    0.24\n",
            "northwest    0.23\n",
            "southeast    0.30\n",
            "southwest    0.23\n",
            "Name: charges, dtype: float64\n"
          ]
        },
        {
          "data": {
            "image/png": "[encoded data removed]",
            "text/plain": [
              "<Figure size 432x288 with 1 Axes>"
            ]
          },
          "metadata": {},
          "output_type": "display_data"
        }
      ],
      "source": [
        "# 2. Distribusi peluang tagihan di tiap-tiap region?\n",
        "total_charges = insurance_data[\"charges\"].sum()\n",
        "region_charges_pmf = insurance_data.groupby([\"region\"])[\"charges\"].agg(np.sum)\n",
        "pmf = round(region_charges_pmf / total_charges, 2)\n",
        "print(pmf)\n",
        "\n",
        "plt.bar(pmf.index, pmf.values, color ='maroon')\n",
        "plt.xlabel(\"Region\")\n",
        "plt.ylabel(\"PMF f(x)\")\n",
        "plt.yticks(np.arange(0, 1.2, step=0.2))\n",
        "plt.title(\"Distribusi peluang tagihan di tiap-tiap region?\")\n",
        "plt.show()"
      ]
    },
    {
      "cell_type": "code",
      "execution_count": null,
      "metadata": {
        "colab": {
          "base_uri": "https://localhost:8080/",
          "height": 364
        },
        "id": "WT8TiBz6n-1z",
        "outputId": "376216a8-a412-4c23-b36e-bb55f6b6c88a"
      },
      "outputs": [
        {
          "name": "stdout",
          "output_type": "stream",
          "text": [
            "smoker\n",
            "no     0.8\n",
            "yes    0.2\n",
            "dtype: float64\n"
          ]
        },
        {
          "data": {
            "image/png": "[encoded data removed]",
            "text/plain": [
              "<Figure size 432x288 with 1 Axes>"
            ]
          },
          "metadata": {},
          "output_type": "display_data"
        }
      ],
      "source": [
        "# 3. Mana yang lebih tinggi proporsi perokok atau non perokok?\n",
        "smoker_charges_pmf = insurance_data.groupby([\"smoker\"]).size()\n",
        "pmf = round(smoker_charges_pmf / total_insurance, 2)\n",
        "print(pmf)\n",
        "\n",
        "plt.bar(pmf.index, pmf.values, color ='maroon')\n",
        "plt.xlabel(\"Smoker / Non Smoker\")\n",
        "plt.ylabel(\"PMF f(x)\")\n",
        "plt.yticks(np.arange(0, 1.2, step=0.2))\n",
        "plt.title(\"Mana yang lebih tinggi proporsi perokok atau non perokok?\")\n",
        "plt.show()"
      ]
    },
    {
      "cell_type": "code",
      "execution_count": null,
      "metadata": {
        "colab": {
          "base_uri": "https://localhost:8080/",
          "height": 312
        },
        "id": "qdkZEGHuoAk4",
        "outputId": "dab516f3-53e6-4221-8ba9-afe992d95f12"
      },
      "outputs": [
        {
          "name": "stdout",
          "output_type": "stream",
          "text": [
            "0.42\n"
          ]
        },
        {
          "data": {
            "image/png": "[encoded data removed]",
            "text/plain": [
              "<Figure size 432x288 with 1 Axes>"
            ]
          },
          "metadata": {},
          "output_type": "display_data"
        }
      ],
      "source": [
        "# 4. Berapa peluang seseorang tersebut adalah perempuan jika diketahui dia adalah perokok?\n",
        "smoker_proportion = len(insurance_data[insurance_data[\"smoker\"] == \"yes\"]) \n",
        "female_smoker = len(insurance_data[(insurance_data[\"smoker\"] == \"yes\") & (insurance_data[\"sex\"] == \"female\")]) \n",
        "\n",
        "pmf_female_given_smoker = female_smoker / smoker_proportion\n",
        "pmf = round(pmf_female_given_smoker, 2)\n",
        "print(pmf)\n",
        "\n",
        "plt.bar(\"Female\", pmf, color ='maroon')\n",
        "plt.xlabel(\"Smoker Female\")\n",
        "plt.ylabel(\"PMF f(x)\")\n",
        "plt.yticks(np.arange(0, 1.2, step=0.2))\n",
        "plt.title(\"Berapa peluang seseorang tersebut adalah perempuan jika diketahui dia adalah perokok?\")\n",
        "plt.show()"
      ]
    },
    {
      "cell_type": "code",
      "execution_count": null,
      "metadata": {
        "id": "rP1jISoAoCM0"
      },
      "outputs": [],
      "source": [
        "# 5. Berapa peluang seseorang tersebut adalah laki laki jika diketahui dia adalah perkokok?"
      ]
    },
    {
      "cell_type": "code",
      "execution_count": null,
      "metadata": {
        "colab": {
          "base_uri": "https://localhost:8080/",
          "height": 312
        },
        "id": "--yaoQKYoD2R",
        "outputId": "cfab3760-2683-4be1-bf08-5e9e6fe12e0b"
      },
      "outputs": [
        {
          "name": "stdout",
          "output_type": "stream",
          "text": [
            "0.58\n"
          ]
        },
        {
          "data": {
            "image/png": "[encoded data removed]",
            "text/plain": [
              "<Figure size 432x288 with 1 Axes>"
            ]
          },
          "metadata": {},
          "output_type": "display_data"
        }
      ],
      "source": [
        "smoker_proportion = len(insurance_data[insurance_data[\"smoker\"] == \"yes\"]) \n",
        "male_smoker = len(insurance_data[(insurance_data[\"smoker\"] == \"yes\") & (insurance_data[\"sex\"] == \"male\")]) \n",
        "\n",
        "pmf_male_given_smoker = male_smoker / smoker_proportion\n",
        "pmf = round(pmf_male_given_smoker, 2)\n",
        "print(pmf)\n",
        "\n",
        "\n",
        "plt.bar(\"Male\", pmf, color ='maroon')\n",
        "plt.xlabel(\"Smoker Male\")\n",
        "plt.ylabel(\"PMF f(x)\")\n",
        "plt.yticks(np.arange(0, 1.2, step=0.2))\n",
        "plt.title(\"Berapa peluang seseorang tersebut adalah laki laki jika diketahui dia adalah perokok?\")\n",
        "plt.show()"
      ]
    },
    {
      "cell_type": "markdown",
      "metadata": {
        "id": "dlYNmUvH_nD8"
      },
      "source": [
        "# 3. Analisa Variabel Continue ( CDF )\n",
        "\n",
        "## This is the lesson_3 answer, consist\n",
        "1. Mencari Peluang besar tagihan berdasarkan BMI\n",
        "2. Mencari kemungkinan terjadi seorang perokok dengan BMI diatas 25 akan mendapatkan tagihan kesehatan diatas 16.700\n",
        "3. Berapa peluang seseorang acak tagihan kesehatannya diatas 16.700 diketahui dia adalah perokok\n",
        "4. Mana lebih mungkin terjadi:\n",
        "\n",
        "    a. Seseorang dengan BMI diatas 25 mendapatkan tagihan kesehatan diatas 16.700, atau\n",
        "\n",
        "    b. Seseorang dengan BMI dibawah 25 mendapatkan tagihan kesehatan diatas 16.700\n",
        "\n",
        "5. Mana lebih mungkin terjadi:\n",
        "\n",
        "    a. Seseorang perokok dengan BMI diatas 25 mendapatkan tagihan kesehatan diatas 16.700, atau\n",
        "\n",
        "    b. Seseorang non perokok dengan BMI dibawah 25 mendapatkan tagihan kesehatan diatas 16.700"
      ]
    },
    {
      "cell_type": "code",
      "execution_count": null,
      "metadata": {
        "colab": {
          "base_uri": "https://localhost:8080/",
          "height": 312
        },
        "id": "-uWIfABACpZR",
        "outputId": "e74fc0c1-ff49-425e-db2b-519bafc9e1d7"
      },
      "outputs": [
        {
          "name": "stdout",
          "output_type": "stream",
          "text": [
            "0.8324\n"
          ]
        },
        {
          "data": {
            "image/png": "[encoded data removed]",
            "text/plain": [
              "<Figure size 432x288 with 1 Axes>"
            ]
          },
          "metadata": {},
          "output_type": "display_data"
        }
      ],
      "source": [
        "# 1. Mencari Peluang besar tagihan berdasarkan BMI\n",
        "# Peluang BMI > 25 jika tagihan 15,000\n",
        "charges_over_15k = len(insurance_data[insurance_data[\"charges\"] > 15000])\n",
        "bmi_over_25_15k = len(insurance_data[(insurance_data[\"bmi\"] > 25) & (insurance_data[\"charges\"] > 15000)])\n",
        "cdf = round(bmi_over_25_15k / charges_over_15k, 4)\n",
        "\n",
        "print(cdf)\n",
        "\n",
        "plt.bar(\"BMI\", cdf, color ='maroon')\n",
        "plt.xlabel(\"BMI > 25 with 15k charges\")\n",
        "plt.ylabel(\"PMF f(x)\")\n",
        "plt.yticks(np.arange(0, 1.2, step=0.2))\n",
        "plt.title(\"Peluang tagihan 15,000 jika BMI > 25\")\n",
        "plt.show()"
      ]
    },
    {
      "cell_type": "code",
      "execution_count": null,
      "metadata": {
        "colab": {
          "base_uri": "https://localhost:8080/",
          "height": 312
        },
        "id": "Bk_7DmpmT8Ki",
        "outputId": "56fecb02-d432-4dda-afe6-d1452aa5f9c8"
      },
      "outputs": [
        {
          "name": "stdout",
          "output_type": "stream",
          "text": [
            "0.85\n"
          ]
        },
        {
          "data": {
            "image/png": "[encoded data removed]",
            "text/plain": [
              "<Figure size 432x288 with 1 Axes>"
            ]
          },
          "metadata": {},
          "output_type": "display_data"
        }
      ],
      "source": [
        "# 2. Mencari kemungkinan terjadi seorang perokok dengan BMI diatas 25 akan mendapatkan tagihan kesehatan diatas 16.700\n",
        "smoker_data = insurance_data[insurance_data[\"smoker\"] == \"yes\"]\n",
        "smoker_bmi_over_25 = len(smoker_data[(smoker_data[\"bmi\"] > 25) & (smoker_data[\"charges\"] > 16700)])\n",
        "charges_over_16k = len(smoker_data[smoker_data[\"charges\"] > 16700])\n",
        "\n",
        "pmf = round(smoker_bmi_over_25 / charges_over_16k, 2)\n",
        "print(pmf)\n",
        "\n",
        "plt.bar(\"Smoker\", pmf, color ='maroon')\n",
        "plt.xlabel(\"Smoker BMI > 25 with 16.7k charges\")\n",
        "plt.ylabel(\"PMF f(x)\")\n",
        "plt.yticks(np.arange(0, 1.2, step=0.2))\n",
        "plt.title(\"Mencari kemungkinan terjadi seorang perokok dengan BMI diatas 25 akan mendapatkan tagihan kesehatan diatas 16.700\")\n",
        "plt.show()"
      ]
    },
    {
      "cell_type": "code",
      "execution_count": null,
      "metadata": {
        "colab": {
          "base_uri": "https://localhost:8080/",
          "height": 312
        },
        "id": "JUSs3pgOZMzn",
        "outputId": "81696700-6101-4be0-fe44-f3a9c286619c"
      },
      "outputs": [
        {
          "name": "stdout",
          "output_type": "stream",
          "text": [
            "0.93\n"
          ]
        },
        {
          "data": {
            "image/png": "[encoded data removed]",
            "text/plain": [
              "<Figure size 432x288 with 1 Axes>"
            ]
          },
          "metadata": {},
          "output_type": "display_data"
        }
      ],
      "source": [
        "# 3. Berapa peluang seseorang acak tagihan kesehatannya diatas 16.700 diketahui dia adalah perokok\n",
        "smoker_charges_f = len(insurance_data[(insurance_data[\"smoker\"] == \"yes\") & (insurance_data[\"charges\"] > 16700)])\n",
        "smoker_len = len(insurance_data[insurance_data[\"smoker\"] == \"yes\"])\n",
        "\n",
        "pmf = round(smoker_charges_f / smoker_len, 2)\n",
        "print(pmf)\n",
        "\n",
        "plt.bar(\"Smoker\", pmf, color ='maroon')\n",
        "plt.xlabel(\"Smoker with 16.7k charges\")\n",
        "plt.ylabel(\"PMF f(x)\")\n",
        "plt.yticks(np.arange(0, 1.2, step=0.2))\n",
        "plt.title(\"Berapa peluang seseorang acak tagihan kesehatannya diatas 16.700 diketahui dia adalah perokok\")\n",
        "plt.show()"
      ]
    },
    {
      "cell_type": "code",
      "execution_count": null,
      "metadata": {
        "colab": {
          "background_save": true,
          "base_uri": "https://localhost:8080/",
          "height": 330
        },
        "id": "mxcu3NeKgZ4y",
        "outputId": "eb8e91a0-51e7-4505-f7de-32d0d2010f2b"
      },
      "outputs": [
        {
          "name": "stdout",
          "output_type": "stream",
          "text": [
            "0.85\n",
            "0.15\n"
          ]
        },
        {
          "data": {
            "image/png": "[encoded data removed]",
            "text/plain": [
              "<Figure size 432x288 with 1 Axes>"
            ]
          },
          "metadata": {},
          "output_type": "display_data"
        }
      ],
      "source": [
        "# 4. Mana lebih mungkin terjadi\n",
        "# Seseorang dengan BMI diatas 25 mendapatkan tagihan kesehatan diatas 16.700, atau Seseorang dengan BMI dibawah 25 mendapatkan tagihan kesehatan diatas 16.700\n",
        "\n",
        "charges_over_16k = len(insurance_data[insurance_data[\"charges\"] > 16700])\n",
        "bmi_over_25_16k = len(insurance_data[(insurance_data[\"bmi\"] > 25) & (insurance_data[\"charges\"] > 16700)])\n",
        "bmi_under_25_16k = len(insurance_data[(insurance_data[\"bmi\"] < 25) & (insurance_data[\"charges\"] > 16700)])\n",
        "\n",
        "\n",
        "over_25_pmf = round(bmi_over_25_16k / charges_over_16k, 2)\n",
        "under_25_pmf = round(bmi_under_25_16k / charges_over_16k, 2)\n",
        "print(over_25_pmf)\n",
        "print(under_25_pmf)\n",
        "\n",
        "pmf_table = pd.Series({\"BMI over 25\": over_25_pmf, \"BMI under 25\": under_25_pmf})\n",
        "\n",
        "plt.bar(pmf_table.index, pmf_table.values, color ='maroon')\n",
        "plt.xlabel(\"BMI\")\n",
        "plt.ylabel(\"PMF f(x)\")\n",
        "plt.yticks(np.arange(0, 1.2, step=0.2))\n",
        "plt.title(\"BMI over 25 vs BMI under 25\")\n",
        "plt.show()"
      ]
    },
    {
      "cell_type": "code",
      "execution_count": null,
      "metadata": {
        "colab": {
          "base_uri": "https://localhost:8080/",
          "height": 330
        },
        "id": "yn09YPY6hrXN",
        "outputId": "df46b5d1-eb20-4b06-973b-a5e7b23a6987"
      },
      "outputs": [
        {
          "name": "stdout",
          "output_type": "stream",
          "text": [
            "0.76\n",
            "0.24\n"
          ]
        },
        {
          "data": {
            "image/png": "[encoded data removed]",
            "text/plain": [
              "<Figure size 432x288 with 1 Axes>"
            ]
          },
          "metadata": {},
          "output_type": "display_data"
        }
      ],
      "source": [
        "# 5. Mana lebih mungkin terjadi:\n",
        "# Seseorang perokok dengan BMI diatas 25 mendapatkan tagihan kesehatan diatas 16.700, \n",
        "# atau Seseorang non perokok dengan BMI diatas 25 mendapatkan tagihan kesehatan diatas 16.700\n",
        "\n",
        "smoker_bmi_over_25 = insurance_data[(insurance_data[\"bmi\"] > 25) & (insurance_data[\"smoker\"] == \"yes\")]\n",
        "non_smoker_bmi_over_25 = insurance_data[(insurance_data[\"bmi\"] > 25) & (insurance_data[\"smoker\"] == \"no\")]\n",
        "charges_bim_over_25_over_16k = len(insurance_data[(insurance_data[\"bmi\"] > 25) & (insurance_data[\"charges\"] > 16700)])\n",
        "\n",
        "smoker_16k = len(smoker_bmi_over_25[smoker_bmi_over_25[\"charges\"] > 16700])\n",
        "non_smoker_16k = len(non_smoker_bmi_over_25[non_smoker_bmi_over_25[\"charges\"] > 16700])\n",
        "\n",
        "\n",
        "over_25_smoker_pmf = round(smoker_16k / charges_bim_over_25_over_16k, 2)\n",
        "over_25_nonsmoker_pmf = round(non_smoker_16k / charges_bim_over_25_over_16k, 2)\n",
        "print(over_25_smoker_pmf)\n",
        "print(over_25_nonsmoker_pmf)\n",
        "\n",
        "pmf_table = pd.Series({\"Smoker over 25\": over_25_smoker_pmf, \"Non Smoker over 25\": over_25_nonsmoker_pmf})\n",
        "\n",
        "plt.bar(pmf_table.index, pmf_table.values, color ='maroon')\n",
        "plt.xlabel(\"Smoker\")\n",
        "plt.ylabel(\"PMF f(x)\")\n",
        "plt.yticks(np.arange(0, 1.2, step=0.2))\n",
        "plt.title(\"Smoker over 25 vs Non Smoker over 25\")\n",
        "plt.show()"
      ]
    },
    {
      "cell_type": "code",
      "execution_count": null,
      "metadata": {
        "id": "u7gWUCl3oFfw"
      },
      "outputs": [],
      "source": []
    },
    {
      "cell_type": "markdown",
      "metadata": {
        "id": "hP4cxVzucRTz"
      },
      "source": [
        "# 4. Analisa Korelasi Variabel\n",
        "\n",
        "Saya akan mengecheck korelasi antara BMI dari orang yang merokok dan Tagihan, untuk menunjukkan apakah memiliki korelasi positif atau negatif atau bahkan tidak berkorelasi sama sekali\n",
        "\n",
        "Jika korelasinya positif dan mendekati 1, maka perokok yang memiliki BMI tinggi, berpeluang membayar tagihan yang sangat tinggi"
      ]
    },
    {
      "cell_type": "code",
      "execution_count": 4,
      "metadata": {
        "colab": {
          "base_uri": "https://localhost:8080/"
        },
        "id": "TCanMJRzcXJd",
        "outputId": "6e14aa90-793f-49de-a450-096ca41cf806"
      },
      "outputs": [
        {
          "output_type": "execute_result",
          "data": {
            "text/plain": [
              "array([[1.        , 0.80648061],\n",
              "       [0.80648061, 1.        ]])"
            ]
          },
          "metadata": {},
          "execution_count": 4
        }
      ],
      "source": [
        "smoker_data = insurance_data[insurance_data[\"smoker\"] == \"yes\"]\n",
        "bmi_charges_corr = np.corrcoef(x=smoker_data[\"bmi\"], y=smoker_data[\"charges\"])\n",
        "bmi_charges_corr"
      ]
    },
    {
      "cell_type": "code",
      "execution_count": 5,
      "metadata": {
        "colab": {
          "base_uri": "https://localhost:8080/",
          "height": 279
        },
        "id": "JiwZY4D3Go_J",
        "outputId": "d0a02801-c4d4-4f45-878f-79e1e8dc0fcd"
      },
      "outputs": [
        {
          "output_type": "display_data",
          "data": {
            "text/plain": [
              "<Figure size 432x288 with 1 Axes>"
            ],
            "image/png": "[encoded data removed]"
          },
          "metadata": {
            "needs_background": "light"
          }
        }
      ],
      "source": [
        "sns.regplot(x=smoker_data[\"bmi\"],\n",
        "            y=smoker_data[\"charges\"], \n",
        "            data=smoker_data,\n",
        "            ci=None,\n",
        "            scatter_kws={\"color\": \"orange\"}, line_kws={\"color\": \"black\"});\n",
        "plt.show()"
      ]
    },
    {
      "cell_type": "code",
      "execution_count": 8,
      "metadata": {
        "id": "k0umSgD4OtLn",
        "colab": {
          "base_uri": "https://localhost:8080/",
          "height": 378
        },
        "outputId": "1cf5acd7-7cef-4b4e-a35b-3316aec59e1f"
      },
      "outputs": [
        {
          "output_type": "display_data",
          "data": {
            "text/plain": [
              "<Figure size 648x432 with 2 Axes>"
            ],
            "image/png": "[encoded data removed]"
          },
          "metadata": {
            "needs_background": "light"
          }
        }
      ],
      "source": [
        "all_corr = insurance_data.corr()\n",
        "f,ax = plt.subplots(figsize=(9, 6))\n",
        "sns.heatmap(all_corr, annot=True, fmt=\".2f\", ax=ax, linewidth=1.5)\n",
        "plt.show()"
      ]
    },
    {
      "cell_type": "markdown",
      "metadata": {
        "id": "oPV9lMr7PjuN"
      },
      "source": [
        "# 5. Hipotesis Testing\n",
        "\n",
        "\n",
        "1. Tagihan Kesehatan perokok lebih tinggi dibandingkan tagihan kesehatan non-perokok\n",
        "2. Tagihan kesehatan orang dengan BMI > 25 lebih tinggi dibandingkan orang dengan BMI < 25\n",
        "3. BMI laki laki dan perempuan sama"
      ]
    },
    {
      "cell_type": "code",
      "execution_count": 34,
      "metadata": {
        "id": "9PLuk6SiPpNk",
        "colab": {
          "base_uri": "https://localhost:8080/"
        },
        "outputId": "774cfbef-4b49-416c-92df-82592fdc7d22"
      },
      "outputs": [
        {
          "output_type": "execute_result",
          "data": {
            "text/plain": [
              "(141634807.22213337, 54416822.670150734)"
            ]
          },
          "metadata": {},
          "execution_count": 34
        }
      ],
      "source": [
        "# 1. Tagihan Kesehatan perokok lebih tinggi dibandingkan tagihan kesehatan non-perokok\n",
        "\n",
        "# karna hipotesis sekarang adalah perokok memiliki tagihan lebih tinggi dibandingkan non perokok\n",
        "# kita akan membuktikan bahwa apakah tagihan perokok ternyata lebih rendah dibandingkan non perokok\n",
        "# Kita akan menggunakan 95% confidence level yanga artinya alphanya 5%\n",
        "\n",
        "# H0: Tagihan perokok > Tagihan non perokok\n",
        "# HA: Tagihan perokok < Tagihan non perokok\n",
        "\n",
        "# Low tailed test / uji pihak kiri\n",
        "# Jika p-value tagihan perokok lebih kecil dibanding alpha, maka kita bisa menolak hipotesis awal / H0\n",
        "\n",
        "smoker = insurance_data[insurance_data[\"smoker\"] == \"yes\"]\n",
        "nonsmoker = insurance_data[insurance_data[\"smoker\"] == \"no\"]\n",
        "\n",
        "sample_perokok = smoker.sample(n=10)\n",
        "sample_non_perokok = nonsmoker.sample(n=10)\n",
        "\n",
        "\n",
        "alpha = 0.05\n",
        "\n",
        "np.var(sample_perokok[\"charges\"]), np.var(sample_non_perokok[\"charges\"])"
      ]
    },
    {
      "cell_type": "code",
      "source": [
        "from scipy.stats import ttest_ind\n",
        "\n",
        "stat, p = ttest_ind(a = sample_perokok[\"charges\"], b = sample_non_perokok[\"charges\"], equal_var=False, alternative='less')\n",
        "\n",
        "print('Statistics = %.4f, p-value = %.4f' % (stat, p)) \n",
        "\n",
        "if p > alpha:\n",
        "    print('Two group means are equal (Gagal tolak H0)') \n",
        "else:\n",
        "    print('Two group means are different (Tolak H0)')"
      ],
      "metadata": {
        "colab": {
          "base_uri": "https://localhost:8080/"
        },
        "id": "hkuU9Vmrqx1Y",
        "outputId": "d92cc34b-797c-4d38-908a-f99d59bddf31"
      },
      "execution_count": 35,
      "outputs": [
        {
          "output_type": "stream",
          "name": "stdout",
          "text": [
            "Statistics = 4.6927, p-value = 0.9999\n",
            "Two group means are equal (Gagal tolak H0)\n"
          ]
        }
      ]
    },
    {
      "cell_type": "code",
      "source": [
        "# 2. Tagihan kesehatan orang dengan BMI > 25 lebih tinggi dibandingkan orang dengan BMI < 25\n",
        "\n",
        "# karna hipotesis sekarang adalah orang dengan BMI > 25 lebih tinggi dibandingkan orang dengan BMI < 25\n",
        "# kita akan membuktikan bahwa apakah itu benar, dengan cara melihat alternate hipotesisnya yaitu BMI > 25 lebih rendah dibandingkan BMI < 25\n",
        "# Kita akan menggunakan 95% confidence level yanga artinya alphanya 5%\n",
        "\n",
        "# H0: Tagihan BMI > 25 > Tagihan BMI < 25\n",
        "# HA: Tagihan BMI > 25 < Tagihan BMI < 25\n",
        "\n",
        "# Low tailed test / uji pihak kiri\n",
        "# Jika p-value (tagihan bmi > 25 yang lebih kecil dari tagihan bmi < 25) kecil dibanding alpha, maka kita bisa menolak hipotesis awal / H0\n",
        "\n",
        "bmi25 = insurance_data[insurance_data[\"bmi\"] > 25]\n",
        "bminon25 = insurance_data[insurance_data[\"bmi\"] < 25]\n",
        "\n",
        "sample_bmi25 = bmi25.sample(n=10)\n",
        "sample_nonbmi25 = bminon25.sample(n=10)\n",
        "\n",
        "\n",
        "alpha = 0.05\n",
        "\n",
        "np.var(sample_bmi25[\"charges\"]), np.var(sample_nonbmi25[\"charges\"])"
      ],
      "metadata": {
        "colab": {
          "base_uri": "https://localhost:8080/"
        },
        "id": "jbB0FcpCvAHn",
        "outputId": "f63a8020-3207-40f1-f2ba-5081a65792a8"
      },
      "execution_count": 26,
      "outputs": [
        {
          "output_type": "execute_result",
          "data": {
            "text/plain": [
              "(126900527.52327581, 43342762.20845369)"
            ]
          },
          "metadata": {},
          "execution_count": 26
        }
      ]
    },
    {
      "cell_type": "code",
      "source": [
        "stat, p = ttest_ind(a = sample_bmi25[\"charges\"], b = sample_nonbmi25[\"charges\"], equal_var=False, alternative='less')\n",
        "\n",
        "print('Statistics = %.4f, p-value = %.4f' % (stat, p)) \n",
        "\n",
        "if p > alpha:\n",
        "    print('Two group means are equal (Gagal tolak H0)') \n",
        "else:\n",
        "    print('Two group means are different (Tolak H0)')"
      ],
      "metadata": {
        "colab": {
          "base_uri": "https://localhost:8080/"
        },
        "id": "QyRB8K7Av662",
        "outputId": "0a098765-e933-4527-8028-35f7c213aaea"
      },
      "execution_count": 27,
      "outputs": [
        {
          "output_type": "stream",
          "name": "stdout",
          "text": [
            "Statistics = 0.6319, p-value = 0.7314\n",
            "Two group means are equal (Gagal tolak H0)\n"
          ]
        }
      ]
    },
    {
      "cell_type": "code",
      "source": [
        "# 3. BMI laki laki dan perempuan sama\n",
        "\n",
        "# Hipotesa awalnya adalah BMI Laki laki dan perempuan sama\n",
        "# Saya akan membuat alternative hipotesa yaitu BMI laki laki dan perempuan tidak sama\n",
        "\n",
        "# kita akan menggunakan two tailed test\n",
        "\n",
        "male = insurance_data[insurance_data[\"sex\"] == \"male\"]\n",
        "female = insurance_data[insurance_data[\"sex\"] == \"female\"]\n",
        "\n",
        "sample_male = male.sample(n=10)\n",
        "sample_female = female.sample(n=10)\n",
        "\n",
        "alpha = 0.05\n",
        "\n",
        "np.var(sample_male[\"bmi\"]), np.var(sample_female[\"bmi\"])"
      ],
      "metadata": {
        "colab": {
          "base_uri": "https://localhost:8080/"
        },
        "id": "tAAx-CxNw0O6",
        "outputId": "9c2b089a-b200-42d0-cb5f-0888d0568ab6"
      },
      "execution_count": 39,
      "outputs": [
        {
          "output_type": "execute_result",
          "data": {
            "text/plain": [
              "(16.327376000000005, 28.847603999999997)"
            ]
          },
          "metadata": {},
          "execution_count": 39
        }
      ]
    },
    {
      "cell_type": "code",
      "source": [
        "stat, p = ttest_ind(a = sample_male[\"bmi\"], b = sample_female[\"bmi\"], equal_var=False, alternative='two-sided')\n",
        "\n",
        "print('Statistics = %.4f, p-value = %.4f' % (stat, p)) \n",
        "\n",
        "if p > alpha:\n",
        "    print('Two group means are equal (Gagal tolak H0)') \n",
        "else:\n",
        "    print('Two group means are different (Tolak H0)')"
      ],
      "metadata": {
        "colab": {
          "base_uri": "https://localhost:8080/"
        },
        "id": "38pa5hkP0AEZ",
        "outputId": "61f419fb-e322-4391-cdaf-41eff787a4d6"
      },
      "execution_count": 45,
      "outputs": [
        {
          "output_type": "stream",
          "name": "stdout",
          "text": [
            "Statistics = 0.5753, p-value = 0.5727\n",
            "Two group means are equal (Gagal tolak H0)\n"
          ]
        }
      ]
    }
  ],
  "metadata": {
    "colab": {
      "collapsed_sections": [
        "Kf6M_Qzzj6R-",
        "afw4bdxfnkdn",
        "dlYNmUvH_nD8",
        "hP4cxVzucRTz"
      ],
      "provenance": []
    },
    "kernelspec": {
      "display_name": "Python 3",
      "name": "python3"
    },
    "language_info": {
      "name": "python"
    }
  },
  "nbformat": 4,
  "nbformat_minor": 0
}